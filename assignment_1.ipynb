{
  "nbformat": 4,
  "nbformat_minor": 0,
  "metadata": {
    "colab": {
      "name": "assignment_1.ipynb",
      "provenance": [],
      "collapsed_sections": [],
      "include_colab_link": true
    },
    "kernelspec": {
      "name": "python3",
      "display_name": "Python 3"
    }
  },
  "cells": [
    {
      "cell_type": "markdown",
      "metadata": {
        "id": "view-in-github",
        "colab_type": "text"
      },
      "source": [
        "<a href=\"https://colab.research.google.com/github/freesoul84/video_in_google_colab/blob/master/assignment_1.ipynb\" target=\"_parent\"><img src=\"https://colab.research.google.com/assets/colab-badge.svg\" alt=\"Open In Colab\"/></a>"
      ]
    },
    {
      "cell_type": "code",
      "metadata": {
        "id": "PQKOJdqVkGuK",
        "colab_type": "code",
        "outputId": "53e6ffcd-2bac-4c30-ce42-3b3ff8192a6a",
        "colab": {
          "resources": {
            "http://localhost:8080/nbextensions/google.colab/files.js": {
              "data": "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",
              "ok": true,
              "headers": [
                [
                  "content-type",
                  "application/javascript"
                ]
              ],
              "status": 200,
              "status_text": ""
            }
          },
          "base_uri": "https://localhost:8080/",
          "height": 111
        }
      },
      "source": [
        "#importing the dataset file which contain dataset of students with result as a dependent attribute\n",
        "from google.colab import files\n",
        "files.upload()"
      ],
      "execution_count": 0,
      "outputs": [
        {
          "output_type": "display_data",
          "data": {
            "text/html": [
              "\n",
              "     <input type=\"file\" id=\"files-214ef679-d8b7-4f13-9811-e1888d93c184\" name=\"files[]\" multiple disabled />\n",
              "     <output id=\"result-214ef679-d8b7-4f13-9811-e1888d93c184\">\n",
              "      Upload widget is only available when the cell has been executed in the\n",
              "      current browser session. Please rerun this cell to enable.\n",
              "      </output>\n",
              "      <script src=\"/nbextensions/google.colab/files.js\"></script> "
            ],
            "text/plain": [
              "<IPython.core.display.HTML object>"
            ]
          },
          "metadata": {
            "tags": []
          }
        },
        {
          "output_type": "stream",
          "text": [
            "Saving datbase.csv to datbase.csv\n"
          ],
          "name": "stdout"
        },
        {
          "output_type": "execute_result",
          "data": {
            "text/plain": [
              "{'datbase.csv': b'StudentID,gender,maths,science,age,result\\n1,F,80,60,15,P\\n2,F,50,79,14,P\\n3,F,70,,15,P\\n4,M,,67,14,P\\n5,M,56,30,15,F\\n6,M,78,20,15,F\\n7,F,56,78,15,P\\n8,F,77,,15,P\\n9,F,88,77,14,P\\n10,M,78,89,15,P\\n11,F,66,76,15,P\\n12,M,76,55,15,P\\n13,M,65,67,15,P\\n14,M,45,25,14,F\\n15,M,56,77,14,P\\n16,F,55,65,15,P\\n17,M,54,34,15,F\\n18,F,76,67,15,P\\n19,M,,66,14,P\\n20,M,68,,15,P\\n'}"
            ]
          },
          "metadata": {
            "tags": []
          },
          "execution_count": 2
        }
      ]
    },
    {
      "cell_type": "code",
      "metadata": {
        "id": "GQE5LTVjkPrV",
        "colab_type": "code",
        "colab": {}
      },
      "source": [
        "# Importing the libraries\n",
        "import numpy as np\n",
        "import matplotlib.pyplot as plt\n",
        "import pandas as pd\n",
        "# Importing the datasets\n",
        "dataset = pd.read_csv('datbase.csv')\n",
        "X = dataset.iloc[:, :-1].values\n",
        "y = dataset.iloc[:,5].values"
      ],
      "execution_count": 0,
      "outputs": []
    },
    {
      "cell_type": "code",
      "metadata": {
        "id": "vNY3jws9QurJ",
        "colab_type": "code",
        "outputId": "a0c7e341-6e5f-4f4a-f52a-3fbedf75c55a",
        "colab": {
          "base_uri": "https://localhost:8080/",
          "height": 34
        }
      },
      "source": [
        "dataset.columns"
      ],
      "execution_count": 0,
      "outputs": [
        {
          "output_type": "execute_result",
          "data": {
            "text/plain": [
              "Index(['StudentID', 'gender', 'maths', 'science', 'age', 'result'], dtype='object')"
            ]
          },
          "metadata": {
            "tags": []
          },
          "execution_count": 147
        }
      ]
    },
    {
      "cell_type": "code",
      "metadata": {
        "id": "coNIApWArKMd",
        "colab_type": "code",
        "outputId": "b1bc0673-b082-497c-b3ea-2238ca6802f4",
        "colab": {
          "base_uri": "https://localhost:8080/",
          "height": 204
        }
      },
      "source": [
        "dataset.info()"
      ],
      "execution_count": 0,
      "outputs": [
        {
          "output_type": "stream",
          "text": [
            "<class 'pandas.core.frame.DataFrame'>\n",
            "RangeIndex: 20 entries, 0 to 19\n",
            "Data columns (total 6 columns):\n",
            "StudentID    20 non-null int64\n",
            "gender       20 non-null object\n",
            "maths        18 non-null float64\n",
            "science      17 non-null float64\n",
            "age          20 non-null int64\n",
            "result       20 non-null object\n",
            "dtypes: float64(2), int64(2), object(2)\n",
            "memory usage: 1.1+ KB\n"
          ],
          "name": "stdout"
        }
      ]
    },
    {
      "cell_type": "code",
      "metadata": {
        "id": "sPn4mgvGrLuu",
        "colab_type": "code",
        "outputId": "71daf4d7-e9c7-49c8-a43f-32932349c629",
        "colab": {
          "base_uri": "https://localhost:8080/",
          "height": 357
        }
      },
      "source": [
        "X"
      ],
      "execution_count": 0,
      "outputs": [
        {
          "output_type": "execute_result",
          "data": {
            "text/plain": [
              "array([[1, 'F', 80.0, 60.0, 15],\n",
              "       [2, 'F', 50.0, 79.0, 14],\n",
              "       [3, 'F', 70.0, nan, 15],\n",
              "       [4, 'M', nan, 67.0, 14],\n",
              "       [5, 'M', 56.0, 30.0, 15],\n",
              "       [6, 'M', 78.0, 20.0, 15],\n",
              "       [7, 'F', 56.0, 78.0, 15],\n",
              "       [8, 'F', 77.0, nan, 15],\n",
              "       [9, 'F', 88.0, 77.0, 14],\n",
              "       [10, 'M', 78.0, 89.0, 15],\n",
              "       [11, 'F', 66.0, 76.0, 15],\n",
              "       [12, 'M', 76.0, 55.0, 15],\n",
              "       [13, 'M', 65.0, 67.0, 15],\n",
              "       [14, 'M', 45.0, 25.0, 14],\n",
              "       [15, 'M', 56.0, 77.0, 14],\n",
              "       [16, 'F', 55.0, 65.0, 15],\n",
              "       [17, 'M', 54.0, 34.0, 15],\n",
              "       [18, 'F', 76.0, 67.0, 15],\n",
              "       [19, 'M', nan, 66.0, 14],\n",
              "       [20, 'M', 68.0, nan, 15]], dtype=object)"
            ]
          },
          "metadata": {
            "tags": []
          },
          "execution_count": 132
        }
      ]
    },
    {
      "cell_type": "code",
      "metadata": {
        "id": "50bCHB7trPVh",
        "colab_type": "code",
        "outputId": "20c43aec-4dc9-4176-f513-ce37846053b8",
        "colab": {
          "base_uri": "https://localhost:8080/",
          "height": 51
        }
      },
      "source": [
        "y"
      ],
      "execution_count": 0,
      "outputs": [
        {
          "output_type": "execute_result",
          "data": {
            "text/plain": [
              "array(['P', 'P', 'P', 'P', 'F', 'F', 'P', 'P', 'P', 'P', 'P', 'P', 'P',\n",
              "       'F', 'P', 'P', 'F', 'P', 'P', 'P'], dtype=object)"
            ]
          },
          "metadata": {
            "tags": []
          },
          "execution_count": 133
        }
      ]
    },
    {
      "cell_type": "code",
      "metadata": {
        "id": "5T_pC2oU3naX",
        "colab_type": "code",
        "outputId": "c7efe1e2-3f16-47e7-b8c8-2034e972394d",
        "colab": {
          "base_uri": "https://localhost:8080/",
          "height": 282
        }
      },
      "source": [
        "import seaborn as sns\n",
        "sns.heatmap(dataset.isnull(), cbar=False)"
      ],
      "execution_count": 0,
      "outputs": [
        {
          "output_type": "execute_result",
          "data": {
            "text/plain": [
              "<matplotlib.axes._subplots.AxesSubplot at 0x7f3b7c7b6438>"
            ]
          },
          "metadata": {
            "tags": []
          },
          "execution_count": 137
        },
        {
          "output_type": "display_data",
          "data": {
            "image/png": "[encoded data removed]",
            "text/plain": [
              "<Figure size 432x288 with 1 Axes>"
            ]
          },
          "metadata": {
            "tags": []
          }
        }
      ]
    },
    {
      "cell_type": "code",
      "metadata": {
        "id": "6oJoi3GLQGHF",
        "colab_type": "code",
        "outputId": "8873845b-e84c-4fec-a321-0ee51db32ccf",
        "colab": {
          "base_uri": "https://localhost:8080/",
          "height": 311
        }
      },
      "source": [
        "# Calculates the histogram for science attribute\n",
        "counts1 = dataset['science'].value_counts(dropna=False)\n",
        "counts1.plot.bar(title='science', grid=True)"
      ],
      "execution_count": 0,
      "outputs": [
        {
          "output_type": "execute_result",
          "data": {
            "text/plain": [
              "<matplotlib.axes._subplots.AxesSubplot at 0x7f3b7c089080>"
            ]
          },
          "metadata": {
            "tags": []
          },
          "execution_count": 144
        },
        {
          "output_type": "display_data",
          "data": {
            "image/png": "[encoded data removed]",
            "text/plain": [
              "<Figure size 432x288 with 1 Axes>"
            ]
          },
          "metadata": {
            "tags": []
          }
        }
      ]
    },
    {
      "cell_type": "code",
      "metadata": {
        "id": "YusoOPUaQpxc",
        "colab_type": "code",
        "outputId": "c1bfa954-37a7-40f3-fa01-c3d5022e77bc",
        "colab": {
          "base_uri": "https://localhost:8080/",
          "height": 311
        }
      },
      "source": [
        "# Calculates the histogram for math attribute\n",
        "counts2 = dataset['maths'].value_counts(dropna=False)\n",
        "counts2.plot.bar(title='math', grid=True)"
      ],
      "execution_count": 0,
      "outputs": [
        {
          "output_type": "execute_result",
          "data": {
            "text/plain": [
              "<matplotlib.axes._subplots.AxesSubplot at 0x7f3b7cc60320>"
            ]
          },
          "metadata": {
            "tags": []
          },
          "execution_count": 150
        },
        {
          "output_type": "display_data",
          "data": {
            "image/png": "[encoded data removed]",
            "text/plain": [
              "<Figure size 432x288 with 1 Axes>"
            ]
          },
          "metadata": {
            "tags": []
          }
        }
      ]
    },
    {
      "cell_type": "code",
      "metadata": {
        "id": "72yCtoHc06_D",
        "colab_type": "code",
        "outputId": "c64d6c16-b946-4bc6-b47c-4077f657e17d",
        "colab": {
          "base_uri": "https://localhost:8080/",
          "height": 357
        }
      },
      "source": [
        "from sklearn.impute import SimpleImputer\n",
        "imp = SimpleImputer(missing_values=np.nan, strategy='mean')\n",
        "# Replace the missing values of each column by mean\n",
        "X[:, 2:4] = imputer.fit_transform(X[:, 2:4])\n",
        "X"
      ],
      "execution_count": 0,
      "outputs": [
        {
          "output_type": "execute_result",
          "data": {
            "text/plain": [
              "array([[1, 'F', 80.0, 60.0, 15],\n",
              "       [2, 'F', 50.0, 79.0, 14],\n",
              "       [3, 'F', 70.0, 60.705882352941174, 15],\n",
              "       [4, 'M', 66.33333333333333, 67.0, 14],\n",
              "       [5, 'M', 56.0, 30.0, 15],\n",
              "       [6, 'M', 78.0, 20.0, 15],\n",
              "       [7, 'F', 56.0, 78.0, 15],\n",
              "       [8, 'F', 77.0, 60.705882352941174, 15],\n",
              "       [9, 'F', 88.0, 77.0, 14],\n",
              "       [10, 'M', 78.0, 89.0, 15],\n",
              "       [11, 'F', 66.0, 76.0, 15],\n",
              "       [12, 'M', 76.0, 55.0, 15],\n",
              "       [13, 'M', 65.0, 67.0, 15],\n",
              "       [14, 'M', 45.0, 25.0, 14],\n",
              "       [15, 'M', 56.0, 77.0, 14],\n",
              "       [16, 'F', 55.0, 65.0, 15],\n",
              "       [17, 'M', 54.0, 34.0, 15],\n",
              "       [18, 'F', 76.0, 67.0, 15],\n",
              "       [19, 'M', 66.33333333333333, 66.0, 14],\n",
              "       [20, 'M', 68.0, 60.705882352941174, 15]], dtype=object)"
            ]
          },
          "metadata": {
            "tags": []
          },
          "execution_count": 151
        }
      ]
    },
    {
      "cell_type": "code",
      "metadata": {
        "id": "rMulXveDQot_",
        "colab_type": "code",
        "colab": {}
      },
      "source": [
        ""
      ],
      "execution_count": 0,
      "outputs": []
    },
    {
      "cell_type": "code",
      "metadata": {
        "id": "LuQsZ5EL065L",
        "colab_type": "code",
        "colab": {}
      },
      "source": [
        ""
      ],
      "execution_count": 0,
      "outputs": []
    },
    {
      "cell_type": "code",
      "metadata": {
        "id": "v7Po3gitrmKT",
        "colab_type": "code",
        "outputId": "0acb7c42-f813-4031-c008-e089db4ba431",
        "colab": {
          "base_uri": "https://localhost:8080/",
          "height": 357
        }
      },
      "source": [
        "for i in range(len(X)):\n",
        "  X[i][2]=int(X[i][2])\n",
        "  X[i][3]=int(X[i][3])\n",
        "X"
      ],
      "execution_count": 0,
      "outputs": [
        {
          "output_type": "execute_result",
          "data": {
            "text/plain": [
              "array([[1, 'F', 80, 60, 15],\n",
              "       [2, 'F', 50, 79, 14],\n",
              "       [3, 'F', 70, 60, 15],\n",
              "       [4, 'M', 66, 67, 14],\n",
              "       [5, 'M', 56, 30, 15],\n",
              "       [6, 'M', 78, 20, 15],\n",
              "       [7, 'F', 56, 78, 15],\n",
              "       [8, 'F', 77, 60, 15],\n",
              "       [9, 'F', 88, 77, 14],\n",
              "       [10, 'M', 78, 89, 15],\n",
              "       [11, 'F', 66, 76, 15],\n",
              "       [12, 'M', 76, 55, 15],\n",
              "       [13, 'M', 65, 67, 15],\n",
              "       [14, 'M', 45, 25, 14],\n",
              "       [15, 'M', 56, 77, 14],\n",
              "       [16, 'F', 55, 65, 15],\n",
              "       [17, 'M', 54, 34, 15],\n",
              "       [18, 'F', 76, 67, 15],\n",
              "       [19, 'M', 66, 66, 14],\n",
              "       [20, 'M', 68, 60, 15]], dtype=object)"
            ]
          },
          "metadata": {
            "tags": []
          },
          "execution_count": 152
        }
      ]
    },
    {
      "cell_type": "code",
      "metadata": {
        "id": "oYoC5740lyeI",
        "colab_type": "code",
        "colab": {}
      },
      "source": [
        "# Encoding categorical data\n",
        "# Creating dummy variables using OneHotEncoder class\n",
        "from sklearn.preprocessing import LabelEncoder, OneHotEncoder \n",
        "\n",
        "# Creating the object of LabelEncoder class\n",
        "labelencoder_X = LabelEncoder()\n",
        "\n",
        "# fit labelencoder_X object to second coulmn\n",
        "X[:,1] = labelencoder_X.fit_transform(X[:, 1])\n"
      ],
      "execution_count": 0,
      "outputs": []
    },
    {
      "cell_type": "code",
      "metadata": {
        "id": "gTuxQBNtulau",
        "colab_type": "code",
        "outputId": "d614c4c3-1ff0-4f8e-a9d3-cd09cdfdbceb",
        "colab": {
          "base_uri": "https://localhost:8080/",
          "height": 357
        }
      },
      "source": [
        "X"
      ],
      "execution_count": 0,
      "outputs": [
        {
          "output_type": "execute_result",
          "data": {
            "text/plain": [
              "array([[1, 0, 80, 60, 15],\n",
              "       [2, 0, 50, 79, 14],\n",
              "       [3, 0, 70, 60, 15],\n",
              "       [4, 1, 66, 67, 14],\n",
              "       [5, 1, 56, 30, 15],\n",
              "       [6, 1, 78, 20, 15],\n",
              "       [7, 0, 56, 78, 15],\n",
              "       [8, 0, 77, 60, 15],\n",
              "       [9, 0, 88, 77, 14],\n",
              "       [10, 1, 78, 89, 15],\n",
              "       [11, 0, 66, 76, 15],\n",
              "       [12, 1, 76, 55, 15],\n",
              "       [13, 1, 65, 67, 15],\n",
              "       [14, 1, 45, 25, 14],\n",
              "       [15, 1, 56, 77, 14],\n",
              "       [16, 0, 55, 65, 15],\n",
              "       [17, 1, 54, 34, 15],\n",
              "       [18, 0, 76, 67, 15],\n",
              "       [19, 1, 66, 66, 14],\n",
              "       [20, 1, 68, 60, 15]], dtype=object)"
            ]
          },
          "metadata": {
            "tags": []
          },
          "execution_count": 154
        }
      ]
    },
    {
      "cell_type": "code",
      "metadata": {
        "id": "fE3_rxGKl73P",
        "colab_type": "code",
        "colab": {}
      },
      "source": [
        "# Creating dummy variables\n",
        "onehotencoder = OneHotEncoder(categories='auto')"
      ],
      "execution_count": 0,
      "outputs": []
    },
    {
      "cell_type": "code",
      "metadata": {
        "id": "rSrYNbh2qWKe",
        "colab_type": "code",
        "outputId": "e570ec85-d405-4a2b-8bf2-d8b4b6da3050",
        "colab": {
          "base_uri": "https://localhost:8080/",
          "height": 34
        }
      },
      "source": [
        "# fit onehotencoder object to first column - Country of matrix X\n",
        "X = onehotencoder.fit_transform(X).toarray()\n",
        "\n",
        "# Creating the object of LabelEncoder class\n",
        "labelencoder_y = LabelEncoder()\n",
        "\n",
        "# fit labelencoder_y object to last coulmn Purchased, we will get encoded vector\n",
        "y = labelencoder_y.fit_transform(y)\n",
        "y"
      ],
      "execution_count": 0,
      "outputs": [
        {
          "output_type": "execute_result",
          "data": {
            "text/plain": [
              "array([1, 1, 1, 1, 0, 0, 1, 1, 1, 1, 1, 1, 1, 0, 1, 1, 0, 1, 1, 1])"
            ]
          },
          "metadata": {
            "tags": []
          },
          "execution_count": 158
        }
      ]
    },
    {
      "cell_type": "code",
      "metadata": {
        "id": "q-JkYGAUqYUV",
        "colab_type": "code",
        "colab": {}
      },
      "source": [
        "# Splitting the dataset into training set and test set\n",
        "from sklearn.model_selection import train_test_split\n",
        "\n",
        "# Choosing 20% data as test data, so we will have 80% data in training set\n",
        "X_train, X_test, y_train, y_test = train_test_split(X, y, test_size = 0.2, random_state = 0)\n",
        "\n",
        "# Feature Scaling\n",
        "from sklearn.preprocessing import StandardScaler\n",
        "\n",
        "# Creating the object of StandardScaler"
      ],
      "execution_count": 0,
      "outputs": []
    },
    {
      "cell_type": "code",
      "metadata": {
        "id": "OIJ5Yj-KqdhQ",
        "colab_type": "code",
        "colab": {}
      },
      "source": [
        "sc_X = StandardScaler()\n",
        "\n",
        "# fit and transform training set\n",
        "X_train = sc_X.fit_transform(X_train)\n",
        "\n",
        "# transform test set\n",
        "X_test = sc_X.transform(X_test)"
      ],
      "execution_count": 0,
      "outputs": []
    },
    {
      "cell_type": "code",
      "metadata": {
        "id": "-4oeb8wdq5Cw",
        "colab_type": "code",
        "outputId": "a5bbc0b8-e7ea-4379-a097-b5749729504a",
        "colab": {
          "base_uri": "https://localhost:8080/",
          "height": 1000
        }
      },
      "source": [
        "X_train"
      ],
      "execution_count": 0,
      "outputs": [
        {
          "output_type": "execute_result",
          "data": {
            "text/plain": [
              "array([[-0.25819889,  0.        , -0.25819889, -0.25819889, -0.25819889,\n",
              "        -0.25819889, -0.25819889, -0.25819889,  0.        , -0.25819889,\n",
              "         3.87298335, -0.25819889, -0.25819889, -0.25819889, -0.25819889,\n",
              "        -0.25819889, -0.25819889, -0.25819889,  0.        ,  0.        ,\n",
              "         1.13389342, -1.13389342, -0.25819889,  0.        , -0.25819889,\n",
              "        -0.25819889, -0.48038446, -0.25819889,  2.64575131,  0.        ,\n",
              "        -0.25819889, -0.37796447, -0.25819889, -0.37796447, -0.25819889,\n",
              "         0.        , -0.25819889, -0.25819889, -0.25819889, -0.25819889,\n",
              "        -0.25819889, -0.48038446, -0.25819889,  0.        , -0.48038446,\n",
              "         3.87298335, -0.25819889, -0.25819889,  0.        , -0.25819889,\n",
              "        -0.48038446,  0.48038446],\n",
              "       [-0.25819889,  0.        , -0.25819889, -0.25819889, -0.25819889,\n",
              "        -0.25819889, -0.25819889, -0.25819889,  0.        , -0.25819889,\n",
              "        -0.25819889, -0.25819889, -0.25819889, -0.25819889, -0.25819889,\n",
              "        -0.25819889, -0.25819889,  3.87298335,  0.        ,  0.        ,\n",
              "         1.13389342, -1.13389342, -0.25819889,  0.        , -0.25819889,\n",
              "        -0.25819889, -0.48038446, -0.25819889, -0.37796447,  0.        ,\n",
              "        -0.25819889,  2.64575131, -0.25819889, -0.37796447, -0.25819889,\n",
              "         0.        , -0.25819889, -0.25819889, -0.25819889, -0.25819889,\n",
              "        -0.25819889, -0.48038446, -0.25819889,  0.        ,  2.081666  ,\n",
              "        -0.25819889, -0.25819889, -0.25819889,  0.        , -0.25819889,\n",
              "        -0.48038446,  0.48038446],\n",
              "       [-0.25819889,  0.        , -0.25819889, -0.25819889, -0.25819889,\n",
              "        -0.25819889,  3.87298335, -0.25819889,  0.        , -0.25819889,\n",
              "        -0.25819889, -0.25819889, -0.25819889, -0.25819889, -0.25819889,\n",
              "        -0.25819889, -0.25819889, -0.25819889,  0.        ,  0.        ,\n",
              "         1.13389342, -1.13389342, -0.25819889,  0.        , -0.25819889,\n",
              "        -0.25819889,  2.081666  , -0.25819889, -0.37796447,  0.        ,\n",
              "        -0.25819889, -0.37796447, -0.25819889, -0.37796447, -0.25819889,\n",
              "         0.        , -0.25819889, -0.25819889, -0.25819889, -0.25819889,\n",
              "        -0.25819889, -0.48038446, -0.25819889,  0.        , -0.48038446,\n",
              "        -0.25819889, -0.25819889,  3.87298335,  0.        , -0.25819889,\n",
              "        -0.48038446,  0.48038446],\n",
              "       [-0.25819889,  0.        , -0.25819889, -0.25819889, -0.25819889,\n",
              "        -0.25819889, -0.25819889, -0.25819889,  0.        , -0.25819889,\n",
              "        -0.25819889, -0.25819889, -0.25819889,  3.87298335, -0.25819889,\n",
              "        -0.25819889, -0.25819889, -0.25819889,  0.        ,  0.        ,\n",
              "        -0.8819171 ,  0.8819171 ,  3.87298335,  0.        , -0.25819889,\n",
              "        -0.25819889, -0.48038446, -0.25819889, -0.37796447,  0.        ,\n",
              "        -0.25819889, -0.37796447, -0.25819889, -0.37796447, -0.25819889,\n",
              "         0.        , -0.25819889,  3.87298335, -0.25819889, -0.25819889,\n",
              "        -0.25819889, -0.48038446, -0.25819889,  0.        , -0.48038446,\n",
              "        -0.25819889, -0.25819889, -0.25819889,  0.        , -0.25819889,\n",
              "         2.081666  , -2.081666  ],\n",
              "       [-0.25819889,  0.        , -0.25819889, -0.25819889,  3.87298335,\n",
              "        -0.25819889, -0.25819889, -0.25819889,  0.        , -0.25819889,\n",
              "        -0.25819889, -0.25819889, -0.25819889, -0.25819889, -0.25819889,\n",
              "        -0.25819889, -0.25819889, -0.25819889,  0.        ,  0.        ,\n",
              "        -0.8819171 ,  0.8819171 , -0.25819889,  0.        , -0.25819889,\n",
              "        -0.25819889,  2.081666  , -0.25819889, -0.37796447,  0.        ,\n",
              "        -0.25819889, -0.37796447, -0.25819889, -0.37796447, -0.25819889,\n",
              "         0.        , -0.25819889, -0.25819889,  3.87298335, -0.25819889,\n",
              "        -0.25819889, -0.48038446, -0.25819889,  0.        , -0.48038446,\n",
              "        -0.25819889, -0.25819889, -0.25819889,  0.        , -0.25819889,\n",
              "        -0.48038446,  0.48038446],\n",
              "       [-0.25819889,  0.        ,  3.87298335, -0.25819889, -0.25819889,\n",
              "        -0.25819889, -0.25819889, -0.25819889,  0.        , -0.25819889,\n",
              "        -0.25819889, -0.25819889, -0.25819889, -0.25819889, -0.25819889,\n",
              "        -0.25819889, -0.25819889, -0.25819889,  0.        ,  0.        ,\n",
              "         1.13389342, -1.13389342, -0.25819889,  0.        , -0.25819889,\n",
              "        -0.25819889, -0.48038446, -0.25819889, -0.37796447,  0.        ,\n",
              "         3.87298335, -0.37796447, -0.25819889, -0.37796447, -0.25819889,\n",
              "         0.        , -0.25819889, -0.25819889, -0.25819889, -0.25819889,\n",
              "        -0.25819889,  2.081666  , -0.25819889,  0.        , -0.48038446,\n",
              "        -0.25819889, -0.25819889, -0.25819889,  0.        , -0.25819889,\n",
              "        -0.48038446,  0.48038446],\n",
              "       [-0.25819889,  0.        , -0.25819889, -0.25819889, -0.25819889,\n",
              "         3.87298335, -0.25819889, -0.25819889,  0.        , -0.25819889,\n",
              "        -0.25819889, -0.25819889, -0.25819889, -0.25819889, -0.25819889,\n",
              "        -0.25819889, -0.25819889, -0.25819889,  0.        ,  0.        ,\n",
              "        -0.8819171 ,  0.8819171 , -0.25819889,  0.        , -0.25819889,\n",
              "        -0.25819889, -0.48038446, -0.25819889, -0.37796447,  0.        ,\n",
              "        -0.25819889, -0.37796447, -0.25819889,  2.64575131, -0.25819889,\n",
              "         0.        ,  3.87298335, -0.25819889, -0.25819889, -0.25819889,\n",
              "        -0.25819889, -0.48038446, -0.25819889,  0.        , -0.48038446,\n",
              "        -0.25819889, -0.25819889, -0.25819889,  0.        , -0.25819889,\n",
              "        -0.48038446,  0.48038446],\n",
              "       [-0.25819889,  0.        , -0.25819889, -0.25819889, -0.25819889,\n",
              "        -0.25819889, -0.25819889, -0.25819889,  0.        , -0.25819889,\n",
              "        -0.25819889, -0.25819889, -0.25819889, -0.25819889,  3.87298335,\n",
              "        -0.25819889, -0.25819889, -0.25819889,  0.        ,  0.        ,\n",
              "        -0.8819171 ,  0.8819171 , -0.25819889,  0.        , -0.25819889,\n",
              "        -0.25819889,  2.081666  , -0.25819889, -0.37796447,  0.        ,\n",
              "        -0.25819889, -0.37796447, -0.25819889, -0.37796447, -0.25819889,\n",
              "         0.        , -0.25819889, -0.25819889, -0.25819889, -0.25819889,\n",
              "        -0.25819889, -0.48038446, -0.25819889,  0.        , -0.48038446,\n",
              "        -0.25819889,  3.87298335, -0.25819889,  0.        , -0.25819889,\n",
              "         2.081666  , -2.081666  ],\n",
              "       [-0.25819889,  0.        , -0.25819889, -0.25819889, -0.25819889,\n",
              "        -0.25819889, -0.25819889, -0.25819889,  0.        ,  3.87298335,\n",
              "        -0.25819889, -0.25819889, -0.25819889, -0.25819889, -0.25819889,\n",
              "        -0.25819889, -0.25819889, -0.25819889,  0.        ,  0.        ,\n",
              "        -0.8819171 ,  0.8819171 , -0.25819889,  0.        , -0.25819889,\n",
              "        -0.25819889, -0.48038446, -0.25819889, -0.37796447,  0.        ,\n",
              "        -0.25819889, -0.37796447, -0.25819889,  2.64575131, -0.25819889,\n",
              "         0.        , -0.25819889, -0.25819889, -0.25819889, -0.25819889,\n",
              "        -0.25819889, -0.48038446, -0.25819889,  0.        , -0.48038446,\n",
              "        -0.25819889, -0.25819889, -0.25819889,  0.        ,  3.87298335,\n",
              "        -0.48038446,  0.48038446],\n",
              "       [-0.25819889,  0.        , -0.25819889, -0.25819889, -0.25819889,\n",
              "        -0.25819889, -0.25819889,  3.87298335,  0.        , -0.25819889,\n",
              "        -0.25819889, -0.25819889, -0.25819889, -0.25819889, -0.25819889,\n",
              "        -0.25819889, -0.25819889, -0.25819889,  0.        ,  0.        ,\n",
              "         1.13389342, -1.13389342, -0.25819889,  0.        , -0.25819889,\n",
              "        -0.25819889, -0.48038446, -0.25819889, -0.37796447,  0.        ,\n",
              "        -0.25819889, -0.37796447,  3.87298335, -0.37796447, -0.25819889,\n",
              "         0.        , -0.25819889, -0.25819889, -0.25819889, -0.25819889,\n",
              "        -0.25819889,  2.081666  , -0.25819889,  0.        , -0.48038446,\n",
              "        -0.25819889, -0.25819889, -0.25819889,  0.        , -0.25819889,\n",
              "        -0.48038446,  0.48038446],\n",
              "       [-0.25819889,  0.        , -0.25819889, -0.25819889, -0.25819889,\n",
              "        -0.25819889, -0.25819889, -0.25819889,  0.        , -0.25819889,\n",
              "        -0.25819889, -0.25819889, -0.25819889, -0.25819889, -0.25819889,\n",
              "        -0.25819889,  3.87298335, -0.25819889,  0.        ,  0.        ,\n",
              "        -0.8819171 ,  0.8819171 , -0.25819889,  0.        ,  3.87298335,\n",
              "        -0.25819889, -0.48038446, -0.25819889, -0.37796447,  0.        ,\n",
              "        -0.25819889, -0.37796447, -0.25819889, -0.37796447, -0.25819889,\n",
              "         0.        , -0.25819889, -0.25819889, -0.25819889,  3.87298335,\n",
              "        -0.25819889, -0.48038446, -0.25819889,  0.        , -0.48038446,\n",
              "        -0.25819889, -0.25819889, -0.25819889,  0.        , -0.25819889,\n",
              "        -0.48038446,  0.48038446],\n",
              "       [-0.25819889,  0.        , -0.25819889, -0.25819889, -0.25819889,\n",
              "        -0.25819889, -0.25819889, -0.25819889,  0.        , -0.25819889,\n",
              "        -0.25819889,  3.87298335, -0.25819889, -0.25819889, -0.25819889,\n",
              "        -0.25819889, -0.25819889, -0.25819889,  0.        ,  0.        ,\n",
              "        -0.8819171 ,  0.8819171 , -0.25819889,  0.        , -0.25819889,\n",
              "        -0.25819889, -0.48038446, -0.25819889, -0.37796447,  0.        ,\n",
              "        -0.25819889,  2.64575131, -0.25819889, -0.37796447, -0.25819889,\n",
              "         0.        , -0.25819889, -0.25819889, -0.25819889, -0.25819889,\n",
              "         3.87298335, -0.48038446, -0.25819889,  0.        , -0.48038446,\n",
              "        -0.25819889, -0.25819889, -0.25819889,  0.        , -0.25819889,\n",
              "        -0.48038446,  0.48038446],\n",
              "       [-0.25819889,  0.        , -0.25819889,  3.87298335, -0.25819889,\n",
              "        -0.25819889, -0.25819889, -0.25819889,  0.        , -0.25819889,\n",
              "        -0.25819889, -0.25819889, -0.25819889, -0.25819889, -0.25819889,\n",
              "        -0.25819889, -0.25819889, -0.25819889,  0.        ,  0.        ,\n",
              "        -0.8819171 ,  0.8819171 , -0.25819889,  0.        , -0.25819889,\n",
              "        -0.25819889, -0.48038446, -0.25819889,  2.64575131,  0.        ,\n",
              "        -0.25819889, -0.37796447, -0.25819889, -0.37796447, -0.25819889,\n",
              "         0.        , -0.25819889, -0.25819889, -0.25819889, -0.25819889,\n",
              "        -0.25819889, -0.48038446, -0.25819889,  0.        ,  2.081666  ,\n",
              "        -0.25819889, -0.25819889, -0.25819889,  0.        , -0.25819889,\n",
              "         2.081666  , -2.081666  ],\n",
              "       [ 3.87298335,  0.        , -0.25819889, -0.25819889, -0.25819889,\n",
              "        -0.25819889, -0.25819889, -0.25819889,  0.        , -0.25819889,\n",
              "        -0.25819889, -0.25819889, -0.25819889, -0.25819889, -0.25819889,\n",
              "        -0.25819889, -0.25819889, -0.25819889,  0.        ,  0.        ,\n",
              "         1.13389342, -1.13389342, -0.25819889,  0.        , -0.25819889,\n",
              "        -0.25819889, -0.48038446, -0.25819889, -0.37796447,  0.        ,\n",
              "        -0.25819889, -0.37796447, -0.25819889, -0.37796447,  3.87298335,\n",
              "         0.        , -0.25819889, -0.25819889, -0.25819889, -0.25819889,\n",
              "        -0.25819889,  2.081666  , -0.25819889,  0.        , -0.48038446,\n",
              "        -0.25819889, -0.25819889, -0.25819889,  0.        , -0.25819889,\n",
              "        -0.48038446,  0.48038446],\n",
              "       [-0.25819889,  0.        , -0.25819889, -0.25819889, -0.25819889,\n",
              "        -0.25819889, -0.25819889, -0.25819889,  0.        , -0.25819889,\n",
              "        -0.25819889, -0.25819889, -0.25819889, -0.25819889, -0.25819889,\n",
              "         3.87298335, -0.25819889, -0.25819889,  0.        ,  0.        ,\n",
              "         1.13389342, -1.13389342, -0.25819889,  0.        , -0.25819889,\n",
              "         3.87298335, -0.48038446, -0.25819889, -0.37796447,  0.        ,\n",
              "        -0.25819889, -0.37796447, -0.25819889, -0.37796447, -0.25819889,\n",
              "         0.        , -0.25819889, -0.25819889, -0.25819889, -0.25819889,\n",
              "        -0.25819889, -0.48038446,  3.87298335,  0.        , -0.48038446,\n",
              "        -0.25819889, -0.25819889, -0.25819889,  0.        , -0.25819889,\n",
              "        -0.48038446,  0.48038446],\n",
              "       [-0.25819889,  0.        , -0.25819889, -0.25819889, -0.25819889,\n",
              "        -0.25819889, -0.25819889, -0.25819889,  0.        , -0.25819889,\n",
              "        -0.25819889, -0.25819889,  3.87298335, -0.25819889, -0.25819889,\n",
              "        -0.25819889, -0.25819889, -0.25819889,  0.        ,  0.        ,\n",
              "        -0.8819171 ,  0.8819171 , -0.25819889,  0.        , -0.25819889,\n",
              "        -0.25819889, -0.48038446,  3.87298335, -0.37796447,  0.        ,\n",
              "        -0.25819889, -0.37796447, -0.25819889, -0.37796447, -0.25819889,\n",
              "         0.        , -0.25819889, -0.25819889, -0.25819889, -0.25819889,\n",
              "        -0.25819889, -0.48038446, -0.25819889,  0.        ,  2.081666  ,\n",
              "        -0.25819889, -0.25819889, -0.25819889,  0.        , -0.25819889,\n",
              "        -0.48038446,  0.48038446]])"
            ]
          },
          "metadata": {
            "tags": []
          },
          "execution_count": 112
        }
      ]
    },
    {
      "cell_type": "code",
      "metadata": {
        "id": "c9Uvk1DQq6Xw",
        "colab_type": "code",
        "colab": {}
      },
      "source": [
        ""
      ],
      "execution_count": 0,
      "outputs": []
    }
  ]
}